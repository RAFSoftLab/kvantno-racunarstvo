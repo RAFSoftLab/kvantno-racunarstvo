{
 "cells": [
  {
   "cell_type": "markdown",
   "id": "a3cb4548",
   "metadata": {},
   "source": [
    "### Lab: Creating and Measuring a Bell State\n",
    "\n",
    "This lab demonstrates how to generate and measure an entangled quantum state, known as the Bell state (|B₀₀⟩), using Qiskit. The circuit creates entanglement by applying a Hadamard gate to the first qubit, followed by a CNOT gate targeting the second qubit. Both qubits are then measured.\n",
    "\n",
    "The output of the circuit is visualized both as raw measurement counts (histogram) and as a normalized probability distribution, helping you observe the characteristic correlations of the entangled state.\n",
    "\n",
    "Bell states are fundamental examples of quantum entanglement and non-classical correlations, which lie at the heart of quantum computing and communication.\n",
    "\n",
    "---\n",
    "\n",
    "### Task\n",
    "\n",
    "1. **Run the provided code** and inspect the resulting circuit diagram and measurement results.\n",
    "2. **Explain the effect of each gate** in creating the entangled state.\n",
    "3. **Verify the output distribution**: For an ideal Bell state |B₀₀⟩, only `00` and `11` outcomes should appear with roughly equal probabilities.\n",
    "4. **Experiment**:\n",
    "   - Replace the Hadamard gate with another gate (e.g., `X`, `RY`) and observe how the output changes.\n",
    "---\n"
   ]
  },
  {
   "cell_type": "code",
   "execution_count": null,
   "id": "714547d4-d58a-4ff8-8cdd-3a0906d72314",
   "metadata": {},
   "outputs": [],
   "source": [
    "from IPython.display import display\n",
    "\n",
    "from qiskit import QuantumCircuit\n",
    "from qiskit_aer import AerSimulator\n",
    "from qiskit.visualization import plot_histogram,plot_distribution\n",
    "from qiskit.visualization import circuit_drawer\n",
    "\n",
    "def bell():\n",
    "    \"\"\"\n",
    "    Creates a quantum circuit that prepares a Bell state (|B_00⟩).\n",
    "\n",
    "    Applies a Hadamard gate to qubit 0 and a CNOT gate with control qubit 0 \n",
    "    and target qubit 1 to create entanglement. Both qubits are then measured.\n",
    "\n",
    "    Returns:\n",
    "        QuantumCircuit: A 2-qubit circuit that generates and measures a Bell state.\n",
    "    \"\"\"\n",
    "    qc = QuantumCircuit(2,2)\n",
    "    \n",
    "    # set state       \n",
    "    qc.h(0)\n",
    "    qc.cx(0, 1)\n",
    "\n",
    "    qc.barrier()\n",
    "    qc.measure(range(2), range(2))\n",
    "    \n",
    "    return qc\n",
    " \n",
    "# ------------------------------------------------\n",
    "#                 main program\n",
    "# ------------------------------------------------\n",
    "\n",
    "qc = bell()\n",
    "circuit_plot = circuit_drawer(qc, output=\"mpl\")\n",
    "display(circuit_plot)\n",
    "\n",
    "# -- run the program on the simulator --\n",
    "simulator = AerSimulator()\n",
    "result = simulator.run(qc, shots=1000).result()\n",
    "counts = result.get_counts(qc)\n",
    "\n",
    "# -- display results --\n",
    "histogram_plot = plot_histogram(counts)\n",
    "display(histogram_plot)\n",
    "\n",
    "distribution_plot = plot_distribution(counts)\n",
    "display(distribution_plot)\n",
    "\n",
    "print(counts)\n"
   ]
  }
 ],
 "metadata": {
  "kernelspec": {
   "display_name": "qiskit-2.0.2",
   "language": "python",
   "name": "qiskit-2.0.2"
  },
  "language_info": {
   "codemirror_mode": {
    "name": "ipython",
    "version": 3
   },
   "file_extension": ".py",
   "mimetype": "text/x-python",
   "name": "python",
   "nbconvert_exporter": "python",
   "pygments_lexer": "ipython3",
   "version": "3.13.3"
  }
 },
 "nbformat": 4,
 "nbformat_minor": 5
}
