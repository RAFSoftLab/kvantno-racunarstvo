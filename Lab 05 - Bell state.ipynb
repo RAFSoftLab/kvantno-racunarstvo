{
 "cells": [
  {
   "cell_type": "markdown",
   "id": "909cea0a",
   "metadata": {},
   "source": [
    "## Kreiranje i merenje Belovog stanja\n",
    "\n",
    "Ova vežba pokazuje način generisanja i merenja spletenog kvantno stanja, poznato kao osnovno Belovo stanje. Ovo i druga Belova stanja predstavljaju primer neklasičnih korelacija, koje su suštinske za kvantno računarstvo i kvantnu komunikaciju.\n",
    "\n",
    "<img src=\"images/Bell-state.png\" align=\"left\"/>\n",
    "\n",
    "Kvantno kolo stvara spletenost primenom Adamarovog operatora na prvi kubit, nakon čega sledi CNOT operacija imeđu dva kubita.  Zatim se oba kubita mere. Izlaz kola se vizuelizuje kroz histogram dobijenih rezultata merenja i kao normalizovana raspodela verovatnoća, što omogućava uočavanje karakterističnih korelacija spletenog stanja. \n",
    "\n",
    "<br clear=\"left\"/>\n",
    "\n",
    "### Zadatak\n",
    "\n",
    "1. **Pokrenite dati kod** i analizirajte dobijeni dijagram kvantnog kola i rezultate merenja.  \n",
    "2. **Objasnite dejstvo svake operacije** u procesu stvaranja upletenog stanja.  \n",
    "3. **Proverite izlaznu raspodelu**: Za idealno Belovo stanje |B₀₀⟩, treba da se pojave samo ishodi `00` i `11` sa približno jednakim verovatnoćama.  \n",
    "\n",
    "### Eksperimenti\n",
    "- Zamenite Adamardovu operaciju nekom drugom (npr. `X`, `RY`) i posmatrajte kako se promena odražava na izlazne rezultate.  \n",
    "\n"
   ]
  },
  {
   "cell_type": "code",
   "execution_count": null,
   "id": "649257c8",
   "metadata": {},
   "outputs": [],
   "source": [
    "from IPython.display import display\n",
    "\n",
    "from qiskit import QuantumCircuit\n",
    "from qiskit_aer import AerSimulator\n",
    "from qiskit.visualization import plot_histogram,plot_distribution\n",
    "from qiskit.visualization import circuit_drawer\n",
    "\n",
    "def bell():\n",
    "    \"\"\"\n",
    "    Creates a quantum circuit that prepares a Bell state (|B_00⟩).\n",
    "\n",
    "    Applies a Hadamard gate to qubit 0 and a CNOT gate with control qubit 0 \n",
    "    and target qubit 1 to create entanglement. Both qubits are then measured.\n",
    "\n",
    "    Returns:\n",
    "        QuantumCircuit: A 2-qubit circuit that generates and measures a Bell state.\n",
    "    \"\"\"\n",
    "    qc = QuantumCircuit(2,2)\n",
    "    \n",
    "    # set state       \n",
    "    qc.h(0)\n",
    "    qc.cx(0, 1)\n",
    "\n",
    "    qc.barrier()\n",
    "    qc.measure(range(2), range(2))\n",
    "    \n",
    "    return qc\n",
    " \n",
    "# ------------------------------------------------\n",
    "#                 main program\n",
    "# ------------------------------------------------\n",
    "\n",
    "qc = bell()\n",
    "circuit_plot = circuit_drawer(qc, output=\"mpl\")\n",
    "display(circuit_plot)\n",
    "\n",
    "# -- run the program on the simulator --\n",
    "simulator = AerSimulator()\n",
    "result = simulator.run(qc, shots=1000).result()\n",
    "counts = result.get_counts(qc)\n",
    "\n",
    "# -- display results --\n",
    "histogram_plot = plot_histogram(counts)\n",
    "display(histogram_plot)\n",
    "\n",
    "distribution_plot = plot_distribution(counts)\n",
    "display(distribution_plot)\n",
    "\n",
    "print(counts)\n"
   ]
  }
 ],
 "metadata": {
  "kernelspec": {
   "display_name": "qiskit-2.0.2",
   "language": "python",
   "name": "qiskit-2.0.2"
  },
  "language_info": {
   "codemirror_mode": {
    "name": "ipython",
    "version": 3
   },
   "file_extension": ".py",
   "mimetype": "text/x-python",
   "name": "python",
   "nbconvert_exporter": "python",
   "pygments_lexer": "ipython3",
   "version": "3.13.3"
  }
 },
 "nbformat": 4,
 "nbformat_minor": 5
}
