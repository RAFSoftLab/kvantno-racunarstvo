{
 "cells": [
  {
   "cell_type": "markdown",
   "id": "858c257a",
   "metadata": {},
   "source": [
    "### Izgradnja jednostavnih kvantnih kola\n",
    "<br>\n",
    "<img src=\"images/Simple-circuit.png\" align=\"left\"/>\n",
    "Ova vežba pokazuje kako se u Qiskit-u programiraju jednokubitna kvantna kola. Primer prikazuje kvantno kolo sa jednom Adamarovom operacijom i otvoren je za dalje eksperimentisanje.\n",
    "<br clear=\"left\"/>\n",
    "\n",
    "---\n",
    "\n",
    "### Zadatak\n",
    "\n",
    "1. Pokrenuti dati program, proučiti dijagram kvantnog kola i objasni njegovu funkciju.  \n",
    "2. Opisati razlike koje se primećuju u histogramu apsolutnih učestanosti i histogramu aspodele verovatnoća.\n",
    "\n",
    "---\n",
    "\n",
    "### Eksperimenti\n",
    "\n",
    "1. Dodati još jednu `H` operaciju u kolo i posmatrati rezultat. Šta se dešava?  \n",
    "2. Umetnuti jednu `Z` operaciju između dve `H` operacije i posmatraj rezultat. Šta se dešava?  \n",
    "3. Ukloni komentar sa linije `qc = transpile(...)` u funkciji `generate_qc` i pokreni kod. Šta se dešava?\n"
   ]
  },
  {
   "cell_type": "code",
   "execution_count": null,
   "id": "6eeaa18c",
   "metadata": {},
   "outputs": [],
   "source": [
    "from IPython.display import display\n",
    "\n",
    "from qiskit import QuantumCircuit, transpile\n",
    "from qiskit.visualization import circuit_drawer, plot_histogram ,plot_distribution\n",
    "from qiskit_aer import AerSimulator\n",
    "\n",
    "\n",
    "def generate_qc():\n",
    "    \"\"\"\n",
    "    Creates a single-qubit quantum circuit.\n",
    "\n",
    "    Returns:\n",
    "        QuantumCircuit: The constructed quantum circuit.\n",
    "    \"\"\"\n",
    "\n",
    "    n_qubits = 1\n",
    "    n_bits = 1\n",
    "    \n",
    "    qc = QuantumCircuit(n_qubits, n_bits)\n",
    "    qc.h(0)\n",
    "    qc.measure(range(n_qubits), range(n_bits))\n",
    "    #qc = transpile(qc, basis_gates=['u1', 'u2', 'u3', 'cx'])\n",
    "    \n",
    "    return qc\n",
    "        \n",
    "# ------------------------------------------------\n",
    "#                main program\n",
    "# ------------------------------------------------\n",
    "\n",
    "# --  setup simulator ---\n",
    "simulator = AerSimulator()\n",
    "shots = 1000\n",
    "\n",
    "# -- run the circuit --\n",
    "qc = generate_qc()\n",
    "result = simulator.run(qc,shots = shots).result()\n",
    "counts = result.get_counts(qc)\n",
    "\n",
    "# -- print counts dictionary --\n",
    "print (counts)\n",
    "\n",
    "# -- draw the circuit --\n",
    "display(circuit_drawer(qc, output=\"mpl\"))\n",
    "\n",
    "# -- plot counts --\n",
    "display(plot_histogram(counts))\n",
    "display(plot_distribution(counts))"
   ]
  }
 ],
 "metadata": {
  "kernelspec": {
   "display_name": "qiskit-2.0.2",
   "language": "python",
   "name": "qiskit-2.0.2"
  },
  "language_info": {
   "codemirror_mode": {
    "name": "ipython",
    "version": 3
   },
   "file_extension": ".py",
   "mimetype": "text/x-python",
   "name": "python",
   "nbconvert_exporter": "python",
   "pygments_lexer": "ipython3",
   "version": "3.13.3"
  }
 },
 "nbformat": 4,
 "nbformat_minor": 5
}
