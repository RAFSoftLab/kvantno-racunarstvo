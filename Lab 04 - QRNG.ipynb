{
 "cells": [
  {
   "cell_type": "code",
   "execution_count": null,
   "id": "f8bc7019",
   "metadata": {},
   "outputs": [],
   "source": [
    "### Kvantni generator slučajnih brojeva\n",
    "\n",
    "Ova laboratorijska vežba prikazuje kako da implementirate jednostavan kvantni generator slučajnih brojeva (QRNG) koristeći Qiskit. Svaki kubit se inicijalizuje u superpoziciono stanje Adamarovim operatorom, a zatim izmeri da bi se proizveo nasumičan niz bitova. Dobijeni nizovi bitova se preuzimaju iz simulatora i konvertuju u cele brojeve, čime se efektivno generišu slučajni brojevi.\n",
    "\n",
    "![QRNG](images/QRNG.png)\n",
    "\n",
    "Rezultat oponaša kvantnu nasumičnost i pokazuje kako merenja redukuje kvantna stanja kubita u klasične vrednosti. Ova osnovna postavka pruža polaznu tačku za istraživanje nasumičnosti u kvantnim sistemima.\n",
    "\n",
    "---\n",
    "\n",
    "### Zadatak\n",
    "\n",
    "1. **Pokrenite dati kod** i posmatrajte generisane nizove bitova i njihove celobrojne ekvivalente.  \n",
    "2. **Promenite broj kubita** (`n_qubits`) i uočite kako se povećava opseg generisanih brojeva.  \n",
    "3. **Ponovite eksperiment** sa većim brojem merenja (npr. 100 ili 1000) i analizirajte raspodelu rezultata. \n",
    "\n",
    "\n",
    "### Eksperimenti\n",
    "1. Izmenite kod tako da prikaže histogram generisanih celih brojeva.  \n",
    "2. Umesto `H` primenite druge jednokubitne operacije (npr. `RY`, `RX`)  i uporedite njihov efekat na nasumičnost.\n"
   ]
  },
  {
   "cell_type": "code",
   "execution_count": null,
   "id": "65f032bb",
   "metadata": {},
   "outputs": [],
   "source": [
    "from IPython.display import display\n",
    "\n",
    "from qiskit import QuantumCircuit\n",
    "from qiskit_aer import AerSimulator\n",
    "from qiskit.visualization import circuit_drawer\n",
    "\n",
    "def qrng(n):\n",
    "    \"\"\"\n",
    "    Generates a quantum circuit for an n-bit quantum random number generator.  \n",
    "    Each qubit is placed in superposition using a Hadamard gate and then measured.\n",
    "    Returns a QuantumCircuit object.\n",
    "    \"\"\"\n",
    "    qc = QuantumCircuit(n, n)\n",
    "    \n",
    "    for i in range(n):\n",
    "        qc.h(i)\n",
    "    qc.measure(range(n), range(n))\n",
    "    \n",
    "    return qc\n",
    "        \n",
    "# ------------------------------------------------\n",
    "#                main program\n",
    "# ------------------------------------------------\n",
    "# --  setup simulator ---\n",
    "simulator = AerSimulator()\n",
    "\n",
    "# -- number of qubits --\n",
    "n_qubits = 3\n",
    "shots = 10\n",
    "\n",
    "# -- run the circuit --\n",
    "qc = qrng(n_qubits)\n",
    "result = simulator.run(qc,shots = shots, memory=True).result()\n",
    "\n",
    "# -- get raw bitstring samples from each simulator shot --\n",
    "rnd_numbers = result.get_memory()\n",
    "\n",
    "# -- convert to integers --\n",
    "integers = [int(b, 2) for b in rnd_numbers]\n",
    "\n",
    "# -- print result --\n",
    "circuit_plot = circuit_drawer(qc, output=\"mpl\")\n",
    "display(circuit_plot)\n",
    "print (integers)"
   ]
  }
 ],
 "metadata": {
  "kernelspec": {
   "display_name": "qiskit-2.0.2",
   "language": "python",
   "name": "qiskit-2.0.2"
  },
  "language_info": {
   "codemirror_mode": {
    "name": "ipython",
    "version": 3
   },
   "file_extension": ".py",
   "mimetype": "text/x-python",
   "name": "python",
   "nbconvert_exporter": "python",
   "pygments_lexer": "ipython3",
   "version": "3.13.3"
  }
 },
 "nbformat": 4,
 "nbformat_minor": 5
}
