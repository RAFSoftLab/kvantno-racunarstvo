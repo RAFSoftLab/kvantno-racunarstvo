{
 "cells": [
  {
   "cell_type": "markdown",
   "id": "e5756da8",
   "metadata": {},
   "source": [
    "### Lab: Quantum Random Number Generation with Hadamard Gates\n",
    "\n",
    "This lab demonstrates how to implement a simple quantum random number generator (QRNG) using Qiskit. Each qubit is initialized in a superposition state using Hadamard gates and then measured to produce a random bitstring. The bitstrings are collected from the simulator and converted into integers, effectively generating random numbers.\n",
    "\n",
    "The output mimics quantum randomness and shows how measurements collapse qubit states to classical values. This basic setup provides a foundation for exploring randomness in quantum systems.\n",
    "\n",
    "---\n",
    "\n",
    "### Task\n",
    "\n",
    "1. **Run the provided code** and observe the generated bitstrings and their integer equivalents.\n",
    "2. **Change the number of qubits** (`n_qubits`) and see how the range of generated numbers increases.\n",
    "3. **Repeat the experiment** with a larger number of shots (e.g., 100 or 1000) and analyze the distribution of the results.\n",
    "4. **Optional Challenge**:  \n",
    "   - Modify the code to plot a histogram of the generated integers.  \n",
    "   - Try applying other single-qubit gates (e.g., `RY`, `RX`) instead of `Hadamard` and compare the effect on randomness.\n",
    "\n",
    "---"
   ]
  },
  {
   "cell_type": "code",
   "execution_count": 4,
   "id": "71a69e5e-df32-469f-8d31-909a90c42cce",
   "metadata": {},
   "outputs": [
    {
     "data": {
      "image/png": "[encoded data removed]",
      "text/plain": [
       "<Figure size 454.719x367.889 with 1 Axes>"
      ]
     },
     "metadata": {},
     "output_type": "display_data"
    },
    {
     "name": "stdout",
     "output_type": "stream",
     "text": [
      "[0, 1, 7, 7, 1, 2, 3, 6, 5, 7]\n"
     ]
    }
   ],
   "source": [
    "from IPython.display import display\n",
    "\n",
    "from qiskit import QuantumCircuit\n",
    "from qiskit_aer import AerSimulator\n",
    "from qiskit.visualization import circuit_drawer\n",
    "\n",
    "def qrng(n):\n",
    "    \"\"\"\n",
    "    Generates a quantum circuit for an n-bit quantum random number generator.  \n",
    "    Each qubit is placed in superposition using a Hadamard gate and then measured.\n",
    "    Returns a QuantumCircuit object.\n",
    "    \"\"\"\n",
    "    qc = QuantumCircuit(n, n)\n",
    "    \n",
    "    for i in range(n):\n",
    "        qc.h(i)\n",
    "    qc.measure(range(n), range(n))\n",
    "    \n",
    "    return qc\n",
    "        \n",
    "# ------------------------------------------------\n",
    "#                main program\n",
    "# ------------------------------------------------\n",
    "# --  setup simulator ---\n",
    "simulator = AerSimulator()\n",
    "\n",
    "# -- number of qubits --\n",
    "n_qubits = 3\n",
    "shots = 10\n",
    "\n",
    "# -- run the circuit --\n",
    "qc = qrng(n_qubits)\n",
    "result = simulator.run(qc,shots = shots, memory=True).result()\n",
    "\n",
    "# -- get raw bitstring samples from each simulator shot --\n",
    "rnd_numbers = result.get_memory()\n",
    "\n",
    "# -- convert to integers --\n",
    "integers = [int(b, 2) for b in rnd_numbers]\n",
    "\n",
    "# -- print result --\n",
    "circuit_plot = circuit_drawer(qc, output=\"mpl\")\n",
    "display(circuit_plot)\n",
    "print (integers)"
   ]
  },
  {
   "cell_type": "code",
   "execution_count": null,
   "id": "a9577dee",
   "metadata": {},
   "outputs": [],
   "source": []
  }
 ],
 "metadata": {
  "kernelspec": {
   "display_name": "qiskit-2.0.2",
   "language": "python",
   "name": "qiskit-2.0.2"
  },
  "language_info": {
   "codemirror_mode": {
    "name": "ipython",
    "version": 3
   },
   "file_extension": ".py",
   "mimetype": "text/x-python",
   "name": "python",
   "nbconvert_exporter": "python",
   "pygments_lexer": "ipython3",
   "version": "3.13.3"
  }
 },
 "nbformat": 4,
 "nbformat_minor": 5
}
