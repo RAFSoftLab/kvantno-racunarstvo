{
 "cells": [
  {
   "cell_type": "markdown",
   "id": "d2fe2774",
   "metadata": {},
   "source": [
    "## QCLab: Kitaev’s Phase Estimation — QPE\n",
    "\n",
    "In this lab we explore **Kitaev’s Phase Estimation** algorithm, a fundamental tool in quantum computing for extracting eigenphases of unitary operators. Suppose a unitary operator $U$ has an eigenstate $\\lvert u \\rangle$ with eigenvalue  \n",
    "$$\n",
    "U \\lvert u \\rangle = e^{2 \\pi i \\phi} \\lvert u \\rangle ,\n",
    "$$  \n",
    "where $\\phi \\in [0,1)$ is the normalized phase (fraction of a full $2\\pi$ rotation).  \n",
    "\n",
    "The goal of phase estimation is to determine $\\phi$ by using controlled applications of $U^{2^k}$ and measurements on control qubits. For $n$ control qubits, we obtain an $n$-bit binary estimate of $\\phi$.  \n",
    "\n",
    "![Kitaev-QPE](images/Kitaev-QPE.png)\n",
    "---\n",
    "\n",
    "### Task\n",
    "                 \n",
    "- Based on the general QPE circuit design, the task is to implement a 2-qubit QPE circuit for the single-qubit phase gate $P(\\theta)$, using the eigenstate $\\lvert 1 \\rangle$ as the target qubit, where $\\theta = 2\\pi\\phi$.\n",
    "- To calculate the phase angle, use the argmax (grid snap) method. The algorithm takes the measurement counts from a QPE run, finds the most likely control register outcome, converts it into an integer $y$, and returns the normalized phase estimate $\\hat{\\phi} = y/2^n.$<br>\n",
    "Thus, the argmax method provides a discrete approximation of the true phase $\\phi$, accurate to within $\\pm1/2^n$.                \n",
    "\n",
    "### Expected Output\n",
    "\n",
    "- A plot of the QPE circuit.\n",
    "- The true and estimated values of $\\phi$, reported both in normalized form ($\\phi \\in [0,1)$) and in radians ($\\theta = 2\\pi\\phi$).\n",
    "\n",
    "\n",
    "### Experimentation\n",
    "\n",
    "- Extend your circuit to 3 control qubits to increase the precision of phase estimation.  \n",
    "- Replace the $P(\\theta)$ gate with another unitary operator $U$ (for example, a $Z$-rotation) and verify that the circuit still extracts the correct eigenphase.  \n",
    "- Add another function for calculating the phase from the measurement counts using the **circular mean** method instead of argmax. \n"
   ]
  },
  {
   "cell_type": "code",
   "execution_count": 1,
   "id": "8e16040b",
   "metadata": {},
   "outputs": [
    {
     "data": {
      "image/png": "[encoded data removed]",
      "text/plain": [
       "<Figure size 1123.61x367.889 with 1 Axes>"
      ]
     },
     "metadata": {},
     "output_type": "display_data"
    },
    {
     "name": "stdout",
     "output_type": "stream",
     "text": [
      "True φ     : 0.200000  (angle = 1.256637 rad)\n",
      "Estimated φ: 0.250000  (angle = 1.570796 rad)\n"
     ]
    }
   ],
   "source": [
    "# ====================================================\n",
    "# QCLab: Kitaev’s Phase Estimation — QPE\n",
    "# <QC|CT> qcict.org\n",
    "# ====================================================\n",
    "\n",
    "from IPython.display import display\n",
    "import numpy as np\n",
    "\n",
    "from qiskit import QuantumCircuit\n",
    "from qiskit.visualization import circuit_drawer\n",
    "from qiskit_aer import AerSimulator\n",
    "\n",
    "# ---------- 2-qubit inverse QFT  ----------\n",
    "def iqft2():\n",
    "    iq = QuantumCircuit(2,)\n",
    "    iq.swap(0, 1)              # restore MSB..LSB order\n",
    "    iq.h(0)\n",
    "    iq.cp(-np.pi/2, 1, 0)\n",
    "    iq.h(1)\n",
    "    return iq\n",
    "\n",
    "# ---------- QPE circuit for U = P(2πφ) with 2 controls ----------\n",
    "def qpe2(phi: float):\n",
    "    \"\"\"\n",
    "    Control qubits: q0=c1 (MSB), q1=c0 (LSB). Target q2 starts in |1>.\n",
    "    Measures controls into 2 classical bits [c0 (LSB), c1 (MSB)] -> read as b1 b0.\n",
    "    \"\"\"\n",
    "    theta = 2*np.pi*phi\n",
    "    qc = QuantumCircuit(3, 2)\n",
    "    c1, c0, t = 0, 1, 2\n",
    "\n",
    "    # Prepare target eigenstate |1>\n",
    "    qc.x(t)\n",
    "\n",
    "    # Superpose controls\n",
    "    qc.h(c1)\n",
    "    qc.h(c0)\n",
    "\n",
    "    # Controlled U^{2^k} with U = P(theta)\n",
    "    qc.cp(theta,  c0, t)      # LSB applies U^1\n",
    "    qc.cp(2*theta, c1, t)     # MSB applies U^2\n",
    "\n",
    "    # Inverse QFT on controls (with swaps so order is MSB..LSB)\n",
    "    qc.compose(iqft2(),inplace=True)\n",
    "\n",
    "    # Measure controls: store MSB in clbit 1, LSB in clbit 0\n",
    "    qc.measure(c1, 1)\n",
    "    qc.measure(c0, 0)\n",
    "    return qc\n",
    "\n",
    "# ----- Simple argmax (grid snap) phase estimation from counts ----\n",
    "def argmax_phi(counts):\n",
    "    \"\"\"\n",
    "    Selects the most frequent outcome, interprets it as an integer y,\n",
    "    and returns φ̂ = y / 2^n where n is the number of control qubits.\n",
    "    \"\"\"\n",
    "    y_str = max(counts, key=counts.get)        # most frequent outcome\n",
    "    n = len(y_str)                             # number of control qubits\n",
    "    y = int(y_str, 2)\n",
    "    return y / (2**n)\n",
    "\n",
    "# ------------------------------------------------\n",
    "#                main program\n",
    "# ------------------------------------------------\n",
    "\n",
    "phi_true = 0.2  # normalized phase in [0,1)\n",
    "qc = qpe2(phi_true)\n",
    "display(circuit_drawer(qc, style=\"bw\", output=\"mpl\"))\n",
    "\n",
    "# Run simulation\n",
    "simulator = AerSimulator()\n",
    "result = simulator.run(qc, shots=1024).result()\n",
    "counts = result.get_counts()\n",
    "phi_est = argmax_phi(counts)\n",
    "    \n",
    "print(f\"True φ     : {phi_true:.6f}  (angle = {2*np.pi*phi_true:.6f} rad)\")\n",
    "print(f\"Estimated φ: {phi_est:.6f}  (angle = {2*np.pi*phi_est:.6f} rad)\")"
   ]
  },
  {
   "cell_type": "code",
   "execution_count": null,
   "id": "527a9ec2",
   "metadata": {},
   "outputs": [],
   "source": []
  }
 ],
 "metadata": {
  "kernelspec": {
   "display_name": "qiskit-2.0.2",
   "language": "python",
   "name": "qiskit-2.0.2"
  },
  "language_info": {
   "codemirror_mode": {
    "name": "ipython",
    "version": 3
   },
   "file_extension": ".py",
   "mimetype": "text/x-python",
   "name": "python",
   "nbconvert_exporter": "python",
   "pygments_lexer": "ipython3",
   "version": "3.13.3"
  }
 },
 "nbformat": 4,
 "nbformat_minor": 5
}
