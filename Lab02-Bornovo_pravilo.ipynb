{
 "cells": [
  {
   "cell_type": "markdown",
   "id": "4ca22be8",
   "metadata": {},
   "source": [
    "## Demonstracija Bornovog pravila\n",
    "\n",
    "<img src=\"images/Born-rule.png\" width=\"250\" align=\"left\"/>\n",
    "\n",
    "**Bornovo pravilo** kaže da se verovatnoće merenja određuju kvadratima amplituda kvantnog stanja.  \n",
    "Za kubit $|S\\rangle = a|0\\rangle + b|1\\rangle$, uz uslov normalizacije $|a|^2 + |b|^2 = 1$, verovatnoća da se dobije klasični rezultat **0** je $P(0) = |a|^2$, dok je verovatnoća za rezultat **1** jednaka $P(1) = |b|^2$.\n",
    "\n",
    "U ovoj vežbi pripremamo stanje kubita za izabrane vrednosti $a$ i $b$, više puta ga merimo i upoređujemo dobijene frekvencije sa teorijskim predviđanjima.  \n",
    "<br clear=\"left\"/>\n",
    "\n",
    "### Zadatak\n",
    "- Pripremiti stanje kubita $|S\\rangle = 0.6|0\\rangle + 0.8|1\\rangle$.  \n",
    "- Izvršiti višestruka merenja u standardnoj (Z) bazi i uporediti eksperimentalno dobijene frekvencije sa teorijskim verovatnoćama predviđenim Bornovim pravilom.  \n",
    "\n",
    "### Očekivani rezultat\n",
    "- Teorijske verovatnoće izračunate na osnovu datih amplituda.  \n",
    "- Rečnik sa brojem posmatranih merenja po ishodu.  \n",
    "- Rečnik sa izmerenim verovatnoćama.  \n",
    "- Grafički prikaz raspodele verovatnoća koji upoređuje izmerene i teorijske vrednosti.  \n",
    "\n",
    "Rezultati bi trebalo da potvrde da su eksperimentalne frekvencije bliske verovatnoćama predviđenim Bornovim pravilom.  \n",
    "\n",
    "### Eksperimenti\n",
    "- Ponovite eksperiment za različite vrednosti $a$ i $b$ i uporedite rezultate.  \n",
    "- Povećajte broj merenja (npr. 10.000) kako biste videli kako se eksperimentalne frekvencije sve više približavaju teorijskim vrednostima.  \n",
    "- Dodajte numeričku proveru tako što ćete izračunati relativnu grešku ili interval pouzdanosti za svaku verovatnoću.  \n"
   ]
  },
  {
   "cell_type": "code",
   "execution_count": null,
   "id": "d5fe1262",
   "metadata": {},
   "outputs": [],
   "source": [
    "from IPython.display import display\n",
    "\n",
    "from qiskit.quantum_info import Statevector\n",
    "from qiskit.visualization import plot_histogram, plot_distribution\n",
    "import numpy as np\n",
    "\n",
    "# 1. Define the qubit state |S⟩ = 0.6|0⟩ + 0.8|1⟩\n",
    "\n",
    "a = 0.6               # pick a coefficient for |0>\n",
    "b = np.sqrt(1 - a**2) # ensure normalization for |1>\n",
    "                      # Calculate theoretical probabilities from Born rule\n",
    "theoretical_probs = {'0': a**2, '1': b**2}\n",
    "state = Statevector([a, b]) # set the state vector\n",
    "\n",
    "# 2. Simulate measurements in the computational (Z) basis\n",
    "shots = 1000\n",
    "counts = state.sample_counts(shots=shots)\n",
    "\n",
    "# 3. Convert result to native Python types & counts to probabilities\n",
    "py_counts = {str(k): int(v) for k, v in counts.items()}\n",
    "measured_probs = {outcome: value/shots for outcome, value in py_counts.items()}\n",
    "\n",
    "# 4. Print results\n",
    "print(f\"Expected probabilities for a={a:.2f} and b={b:.2f}: P(0)={a**2:.2f}, P(1)={b**2:.2f}\")\n",
    "print(f\"Observed measurement counts ({shots} shots):\", py_counts)\n",
    "print(f\"Observed measurement probabilities ({shots} shots):\", measured_probs)\n",
    "\n",
    "# 5. Plot histogram of observed and theoretical distribution\n",
    "display(plot_histogram(py_counts, title=\"Measurement Results\"))\n",
    "display(\n",
    "    plot_distribution(\n",
    "        [measured_probs, theoretical_probs],\n",
    "        title=\"Measured vs Theoretical Probabilities\",\n",
    "        legend=[\"Measured\", \"Theoretical\"]\n",
    "    )\n",
    ")"
   ]
  }
 ],
 "metadata": {
  "kernelspec": {
   "display_name": "qiskit-2.0.2",
   "language": "python",
   "name": "qiskit-2.0.2"
  },
  "language_info": {
   "codemirror_mode": {
    "name": "ipython",
    "version": 3
   },
   "file_extension": ".py",
   "mimetype": "text/x-python",
   "name": "python",
   "nbconvert_exporter": "python",
   "pygments_lexer": "ipython3",
   "version": "3.13.3"
  }
 },
 "nbformat": 4,
 "nbformat_minor": 5
}
