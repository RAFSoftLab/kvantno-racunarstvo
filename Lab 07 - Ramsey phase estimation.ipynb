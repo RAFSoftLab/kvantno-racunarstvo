{
 "cells": [
  {
   "cell_type": "markdown",
   "id": "f328575f",
   "metadata": {},
   "source": [
    "## Single Qubit Ramsey-like Phase Estimation\n",
    "\n",
    "This lab demonstrates how to estimate an unknown phase using single-qubit circuits in Qiskit by:  \n",
    "\n",
    "- Building two circuits that start in superposition, apply a phase gate $P(\\varphi)$, and measure along the X and Y axes.  \n",
    "- Using measurement statistics to estimate $\\cos\\varphi$ and $\\sin\\varphi$, then recovering $\\varphi$ via `arctan2`.  \n",
    "\n",
    "![Ramsey-phase-estimation](images/Ramsey-phase-estimation.png)\n",
    "\n",
    "### Task\n",
    "Run the notebook, enter a target angle (e.g., `3*pi/8`), simulate both circuits, and compare the recovered angle to the target.\n",
    "\n",
    "### Expected output\n",
    "- Circuit drawings for the X and Y measurement branches.\n",
    "- Printed values of the target angle and the measured angle derived from outcomes.\n",
    "\n",
    "### Experimentation\n",
    "- Vary `shots` to see how sampling affects accuracy.\n",
    "- Try different angles, including negative values and values beyond `2*pi`.\n"
   ]
  },
  {
   "cell_type": "code",
   "execution_count": null,
   "id": "ba70ec4c",
   "metadata": {},
   "outputs": [],
   "source": [
    "from IPython.display import display\n",
    "\n",
    "from qiskit import QuantumCircuit\n",
    "from qiskit_aer import AerSimulator\n",
    "from qiskit.visualization import circuit_drawer\n",
    "import numpy as np\n",
    "\n",
    "pi = np.pi        # pi constant\n",
    "\n",
    "# -- Input parameters --\n",
    "fi = eval(input(\"Angle in radians (e.g., 3*pi/8): \"))\n",
    "shots = 2000      # Number of measurement shots\n",
    "\n",
    "# -- circuit for measurement along the X-axis --\n",
    "qcx = QuantumCircuit(1, 1)\n",
    "qcx.h(0)          # prepare superposition |+>\n",
    "qcx.p(fi, 0)      # apply phase gate P(φ)\n",
    "qcx.h(0)          # rotate X-axis onto Z-axis for measurement\n",
    "qcx.measure(0, 0)\n",
    "\n",
    "# -- circuit for measurement along the Y-axis --\n",
    "qcy = QuantumCircuit(1, 1)\n",
    "qcy.h(0)          # prepare superposition |+>\n",
    "qcy.p(fi, 0)      # apply phase gate P(φ)\n",
    "qcy.sdg(0)        # rotate Y-axis onto X-axis (S† gate)\n",
    "qcy.h(0)          # rotate X-axis onto Z-axis for measurement\n",
    "qcy.measure(0, 0)\n",
    "\n",
    "# -- run simulation for measurement along the X-axis --\n",
    "simulator = AerSimulator()\n",
    "result = simulator.run(qcx, shots=shots).result()\n",
    "counts = result.get_counts(qcx)\n",
    "cosfi = (counts['0']/shots) - (counts['1']/shots)  # estimate cos(φ)\n",
    "\n",
    "# -- run simulation for measurement along the Y-axis --\n",
    "result = simulator.run(qcy, shots=shots).result()\n",
    "counts = result.get_counts(qcy)\n",
    "sinfi = (counts['0']/shots) - (counts['1']/shots)  # estimate sin(φ)\n",
    "\n",
    "display(circuit_drawer(qcx, style=\"bw\", output=\"mpl\"))\n",
    "display(circuit_drawer(qcy, style=\"bw\", output=\"mpl\"))\n",
    "\n",
    "print(\"Target angle:\\t\", fi)\n",
    "print(\"Measured angle:\\t\", np.arctan2(sinfi, cosfi))\n"
   ]
  }
 ],
 "metadata": {
  "kernelspec": {
   "display_name": "qiskit-2.0.2",
   "language": "python",
   "name": "qiskit-2.0.2"
  },
  "language_info": {
   "codemirror_mode": {
    "name": "ipython",
    "version": 3
   },
   "file_extension": ".py",
   "mimetype": "text/x-python",
   "name": "python",
   "nbconvert_exporter": "python",
   "pygments_lexer": "ipython3",
   "version": "3.13.3"
  }
 },
 "nbformat": 4,
 "nbformat_minor": 5
}
